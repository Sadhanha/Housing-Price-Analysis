{
 "cells": [
  {
   "cell_type": "code",
   "execution_count": 1,
   "metadata": {
    "id": "YKtbDI1EHsBP"
   },
   "outputs": [],
   "source": [
    "# Installing Packages\n",
    "import numpy as np\n",
    "import pandas as pd\n",
    "%matplotlib inline\n",
    "import seaborn as sns\n",
    "from math import sqrt\n",
    "from scipy import stats\n",
    "import statsmodels.api as sm\n",
    "import matplotlib.pyplot as plt\n",
    "from scipy.stats import norm, skew\n",
    "from sklearn.metrics import r2_score\n",
    "import statsmodels.formula.api as smf\n",
    "from sklearn.linear_model import Lasso, Ridge\n",
    "from sklearn.metrics import mean_squared_error\n",
    "from sklearn.preprocessing import StandardScaler\n",
    "from sklearn.linear_model import LinearRegression\n",
    "from sklearn.model_selection import train_test_split\n",
    "from sklearn.metrics import mean_squared_error, r2_score"
   ]
  },
  {
   "cell_type": "markdown",
   "metadata": {
    "id": "ZIME6TsPHxDj"
   },
   "source": [
    "## **1. Exploratory Data Analysis**"
   ]
  },
  {
   "cell_type": "code",
   "execution_count": 2,
   "metadata": {
    "colab": {
     "base_uri": "https://localhost:8080/",
     "height": 377
    },
    "id": "sUSJpxLFJl7K",
    "outputId": "599b5ad4-bf08-4dba-b9f5-8df6a1cb485e"
   },
   "outputs": [
    {
     "data": {
      "text/html": [
       "\n",
       "  <div id=\"df-faad5dc3-ea12-4811-b71d-9cf2de199bd8\" class=\"colab-df-container\">\n",
       "    <div>\n",
       "<style scoped>\n",
       "    .dataframe tbody tr th:only-of-type {\n",
       "        vertical-align: middle;\n",
       "    }\n",
       "\n",
       "    .dataframe tbody tr th {\n",
       "        vertical-align: top;\n",
       "    }\n",
       "\n",
       "    .dataframe thead th {\n",
       "        text-align: right;\n",
       "    }\n",
       "</style>\n",
       "<table border=\"1\" class=\"dataframe\">\n",
       "  <thead>\n",
       "    <tr style=\"text-align: right;\">\n",
       "      <th></th>\n",
       "      <th>Suburb</th>\n",
       "      <th>Address</th>\n",
       "      <th>Rooms</th>\n",
       "      <th>Type</th>\n",
       "      <th>Price</th>\n",
       "      <th>Method</th>\n",
       "      <th>SellerG</th>\n",
       "      <th>Date</th>\n",
       "      <th>Distance</th>\n",
       "      <th>Postcode</th>\n",
       "      <th>...</th>\n",
       "      <th>Bathroom</th>\n",
       "      <th>Car</th>\n",
       "      <th>Landsize</th>\n",
       "      <th>BuildingArea</th>\n",
       "      <th>YearBuilt</th>\n",
       "      <th>CouncilArea</th>\n",
       "      <th>Lattitude</th>\n",
       "      <th>Longtitude</th>\n",
       "      <th>Regionname</th>\n",
       "      <th>Propertycount</th>\n",
       "    </tr>\n",
       "  </thead>\n",
       "  <tbody>\n",
       "    <tr>\n",
       "      <th>0</th>\n",
       "      <td>Thornbury</td>\n",
       "      <td>7/67 Pender St</td>\n",
       "      <td>2</td>\n",
       "      <td>u</td>\n",
       "      <td>438000.0</td>\n",
       "      <td>SP</td>\n",
       "      <td>Love</td>\n",
       "      <td>22/08/2016</td>\n",
       "      <td>6.5</td>\n",
       "      <td>3071</td>\n",
       "      <td>...</td>\n",
       "      <td>1.0</td>\n",
       "      <td>1.0</td>\n",
       "      <td>0.0</td>\n",
       "      <td>66.0</td>\n",
       "      <td>1970.0</td>\n",
       "      <td>Darebin City Council</td>\n",
       "      <td>-37.7541</td>\n",
       "      <td>145.0088</td>\n",
       "      <td>Northern Metropolitan</td>\n",
       "      <td>8870</td>\n",
       "    </tr>\n",
       "    <tr>\n",
       "      <th>1</th>\n",
       "      <td>Coburg</td>\n",
       "      <td>32 Rose St</td>\n",
       "      <td>2</td>\n",
       "      <td>h</td>\n",
       "      <td>901000.0</td>\n",
       "      <td>S</td>\n",
       "      <td>Peter</td>\n",
       "      <td>27/06/2016</td>\n",
       "      <td>7.8</td>\n",
       "      <td>3058</td>\n",
       "      <td>...</td>\n",
       "      <td>1.0</td>\n",
       "      <td>1.0</td>\n",
       "      <td>545.0</td>\n",
       "      <td>107.0</td>\n",
       "      <td>1940.0</td>\n",
       "      <td>Darebin City Council</td>\n",
       "      <td>-37.7445</td>\n",
       "      <td>144.9471</td>\n",
       "      <td>Northern Metropolitan</td>\n",
       "      <td>11204</td>\n",
       "    </tr>\n",
       "    <tr>\n",
       "      <th>2</th>\n",
       "      <td>Bentleigh East</td>\n",
       "      <td>2/25 Brooks St</td>\n",
       "      <td>3</td>\n",
       "      <td>u</td>\n",
       "      <td>800000.0</td>\n",
       "      <td>S</td>\n",
       "      <td>Woodards</td>\n",
       "      <td>28/05/2016</td>\n",
       "      <td>13.9</td>\n",
       "      <td>3165</td>\n",
       "      <td>...</td>\n",
       "      <td>2.0</td>\n",
       "      <td>2.0</td>\n",
       "      <td>261.0</td>\n",
       "      <td>NaN</td>\n",
       "      <td>NaN</td>\n",
       "      <td>Glen Eira City Council</td>\n",
       "      <td>-37.9163</td>\n",
       "      <td>145.0779</td>\n",
       "      <td>Southern Metropolitan</td>\n",
       "      <td>10969</td>\n",
       "    </tr>\n",
       "    <tr>\n",
       "      <th>3</th>\n",
       "      <td>Templestowe Lower</td>\n",
       "      <td>2/35 John St</td>\n",
       "      <td>3</td>\n",
       "      <td>t</td>\n",
       "      <td>1155000.0</td>\n",
       "      <td>S</td>\n",
       "      <td>Jellis</td>\n",
       "      <td>25/11/2017</td>\n",
       "      <td>12.4</td>\n",
       "      <td>3107</td>\n",
       "      <td>...</td>\n",
       "      <td>NaN</td>\n",
       "      <td>NaN</td>\n",
       "      <td>NaN</td>\n",
       "      <td>NaN</td>\n",
       "      <td>NaN</td>\n",
       "      <td>Manningham City Council</td>\n",
       "      <td>NaN</td>\n",
       "      <td>NaN</td>\n",
       "      <td>Eastern Metropolitan</td>\n",
       "      <td>5420</td>\n",
       "    </tr>\n",
       "    <tr>\n",
       "      <th>4</th>\n",
       "      <td>South Yarra</td>\n",
       "      <td>1/35 Marne St</td>\n",
       "      <td>3</td>\n",
       "      <td>u</td>\n",
       "      <td>1630000.0</td>\n",
       "      <td>PI</td>\n",
       "      <td>Jellis</td>\n",
       "      <td>10/9/2016</td>\n",
       "      <td>3.3</td>\n",
       "      <td>3141</td>\n",
       "      <td>...</td>\n",
       "      <td>1.0</td>\n",
       "      <td>1.0</td>\n",
       "      <td>0.0</td>\n",
       "      <td>NaN</td>\n",
       "      <td>NaN</td>\n",
       "      <td>Melbourne City Council</td>\n",
       "      <td>-37.8359</td>\n",
       "      <td>144.9839</td>\n",
       "      <td>Southern Metropolitan</td>\n",
       "      <td>14887</td>\n",
       "    </tr>\n",
       "  </tbody>\n",
       "</table>\n",
       "<p>5 rows × 21 columns</p>\n",
       "</div>\n",
       "    <div class=\"colab-df-buttons\">\n",
       "\n",
       "  <div class=\"colab-df-container\">\n",
       "    <button class=\"colab-df-convert\" onclick=\"convertToInteractive('df-faad5dc3-ea12-4811-b71d-9cf2de199bd8')\"\n",
       "            title=\"Convert this dataframe to an interactive table.\"\n",
       "            style=\"display:none;\">\n",
       "\n",
       "  <svg xmlns=\"http://www.w3.org/2000/svg\" height=\"24px\" viewBox=\"0 -960 960 960\">\n",
       "    <path d=\"M120-120v-720h720v720H120Zm60-500h600v-160H180v160Zm220 220h160v-160H400v160Zm0 220h160v-160H400v160ZM180-400h160v-160H180v160Zm440 0h160v-160H620v160ZM180-180h160v-160H180v160Zm440 0h160v-160H620v160Z\"/>\n",
       "  </svg>\n",
       "    </button>\n",
       "\n",
       "  <style>\n",
       "    .colab-df-container {\n",
       "      display:flex;\n",
       "      gap: 12px;\n",
       "    }\n",
       "\n",
       "    .colab-df-convert {\n",
       "      background-color: #E8F0FE;\n",
       "      border: none;\n",
       "      border-radius: 50%;\n",
       "      cursor: pointer;\n",
       "      display: none;\n",
       "      fill: #1967D2;\n",
       "      height: 32px;\n",
       "      padding: 0 0 0 0;\n",
       "      width: 32px;\n",
       "    }\n",
       "\n",
       "    .colab-df-convert:hover {\n",
       "      background-color: #E2EBFA;\n",
       "      box-shadow: 0px 1px 2px rgba(60, 64, 67, 0.3), 0px 1px 3px 1px rgba(60, 64, 67, 0.15);\n",
       "      fill: #174EA6;\n",
       "    }\n",
       "\n",
       "    .colab-df-buttons div {\n",
       "      margin-bottom: 4px;\n",
       "    }\n",
       "\n",
       "    [theme=dark] .colab-df-convert {\n",
       "      background-color: #3B4455;\n",
       "      fill: #D2E3FC;\n",
       "    }\n",
       "\n",
       "    [theme=dark] .colab-df-convert:hover {\n",
       "      background-color: #434B5C;\n",
       "      box-shadow: 0px 1px 3px 1px rgba(0, 0, 0, 0.15);\n",
       "      filter: drop-shadow(0px 1px 2px rgba(0, 0, 0, 0.3));\n",
       "      fill: #FFFFFF;\n",
       "    }\n",
       "  </style>\n",
       "\n",
       "    <script>\n",
       "      const buttonEl =\n",
       "        document.querySelector('#df-faad5dc3-ea12-4811-b71d-9cf2de199bd8 button.colab-df-convert');\n",
       "      buttonEl.style.display =\n",
       "        google.colab.kernel.accessAllowed ? 'block' : 'none';\n",
       "\n",
       "      async function convertToInteractive(key) {\n",
       "        const element = document.querySelector('#df-faad5dc3-ea12-4811-b71d-9cf2de199bd8');\n",
       "        const dataTable =\n",
       "          await google.colab.kernel.invokeFunction('convertToInteractive',\n",
       "                                                    [key], {});\n",
       "        if (!dataTable) return;\n",
       "\n",
       "        const docLinkHtml = 'Like what you see? Visit the ' +\n",
       "          '<a target=\"_blank\" href=https://colab.research.google.com/notebooks/data_table.ipynb>data table notebook</a>'\n",
       "          + ' to learn more about interactive tables.';\n",
       "        element.innerHTML = '';\n",
       "        dataTable['output_type'] = 'display_data';\n",
       "        await google.colab.output.renderOutput(dataTable, element);\n",
       "        const docLink = document.createElement('div');\n",
       "        docLink.innerHTML = docLinkHtml;\n",
       "        element.appendChild(docLink);\n",
       "      }\n",
       "    </script>\n",
       "  </div>\n",
       "\n",
       "\n",
       "<div id=\"df-5030dbf5-15e3-442e-a96b-59032b46325b\">\n",
       "  <button class=\"colab-df-quickchart\" onclick=\"quickchart('df-5030dbf5-15e3-442e-a96b-59032b46325b')\"\n",
       "            title=\"Suggest charts\"\n",
       "            style=\"display:none;\">\n",
       "\n",
       "<svg xmlns=\"http://www.w3.org/2000/svg\" height=\"24px\"viewBox=\"0 0 24 24\"\n",
       "     width=\"24px\">\n",
       "    <g>\n",
       "        <path d=\"M19 3H5c-1.1 0-2 .9-2 2v14c0 1.1.9 2 2 2h14c1.1 0 2-.9 2-2V5c0-1.1-.9-2-2-2zM9 17H7v-7h2v7zm4 0h-2V7h2v10zm4 0h-2v-4h2v4z\"/>\n",
       "    </g>\n",
       "</svg>\n",
       "  </button>\n",
       "\n",
       "<style>\n",
       "  .colab-df-quickchart {\n",
       "      --bg-color: #E8F0FE;\n",
       "      --fill-color: #1967D2;\n",
       "      --hover-bg-color: #E2EBFA;\n",
       "      --hover-fill-color: #174EA6;\n",
       "      --disabled-fill-color: #AAA;\n",
       "      --disabled-bg-color: #DDD;\n",
       "  }\n",
       "\n",
       "  [theme=dark] .colab-df-quickchart {\n",
       "      --bg-color: #3B4455;\n",
       "      --fill-color: #D2E3FC;\n",
       "      --hover-bg-color: #434B5C;\n",
       "      --hover-fill-color: #FFFFFF;\n",
       "      --disabled-bg-color: #3B4455;\n",
       "      --disabled-fill-color: #666;\n",
       "  }\n",
       "\n",
       "  .colab-df-quickchart {\n",
       "    background-color: var(--bg-color);\n",
       "    border: none;\n",
       "    border-radius: 50%;\n",
       "    cursor: pointer;\n",
       "    display: none;\n",
       "    fill: var(--fill-color);\n",
       "    height: 32px;\n",
       "    padding: 0;\n",
       "    width: 32px;\n",
       "  }\n",
       "\n",
       "  .colab-df-quickchart:hover {\n",
       "    background-color: var(--hover-bg-color);\n",
       "    box-shadow: 0 1px 2px rgba(60, 64, 67, 0.3), 0 1px 3px 1px rgba(60, 64, 67, 0.15);\n",
       "    fill: var(--button-hover-fill-color);\n",
       "  }\n",
       "\n",
       "  .colab-df-quickchart-complete:disabled,\n",
       "  .colab-df-quickchart-complete:disabled:hover {\n",
       "    background-color: var(--disabled-bg-color);\n",
       "    fill: var(--disabled-fill-color);\n",
       "    box-shadow: none;\n",
       "  }\n",
       "\n",
       "  .colab-df-spinner {\n",
       "    border: 2px solid var(--fill-color);\n",
       "    border-color: transparent;\n",
       "    border-bottom-color: var(--fill-color);\n",
       "    animation:\n",
       "      spin 1s steps(1) infinite;\n",
       "  }\n",
       "\n",
       "  @keyframes spin {\n",
       "    0% {\n",
       "      border-color: transparent;\n",
       "      border-bottom-color: var(--fill-color);\n",
       "      border-left-color: var(--fill-color);\n",
       "    }\n",
       "    20% {\n",
       "      border-color: transparent;\n",
       "      border-left-color: var(--fill-color);\n",
       "      border-top-color: var(--fill-color);\n",
       "    }\n",
       "    30% {\n",
       "      border-color: transparent;\n",
       "      border-left-color: var(--fill-color);\n",
       "      border-top-color: var(--fill-color);\n",
       "      border-right-color: var(--fill-color);\n",
       "    }\n",
       "    40% {\n",
       "      border-color: transparent;\n",
       "      border-right-color: var(--fill-color);\n",
       "      border-top-color: var(--fill-color);\n",
       "    }\n",
       "    60% {\n",
       "      border-color: transparent;\n",
       "      border-right-color: var(--fill-color);\n",
       "    }\n",
       "    80% {\n",
       "      border-color: transparent;\n",
       "      border-right-color: var(--fill-color);\n",
       "      border-bottom-color: var(--fill-color);\n",
       "    }\n",
       "    90% {\n",
       "      border-color: transparent;\n",
       "      border-bottom-color: var(--fill-color);\n",
       "    }\n",
       "  }\n",
       "</style>\n",
       "\n",
       "  <script>\n",
       "    async function quickchart(key) {\n",
       "      const quickchartButtonEl =\n",
       "        document.querySelector('#' + key + ' button');\n",
       "      quickchartButtonEl.disabled = true;  // To prevent multiple clicks.\n",
       "      quickchartButtonEl.classList.add('colab-df-spinner');\n",
       "      try {\n",
       "        const charts = await google.colab.kernel.invokeFunction(\n",
       "            'suggestCharts', [key], {});\n",
       "      } catch (error) {\n",
       "        console.error('Error during call to suggestCharts:', error);\n",
       "      }\n",
       "      quickchartButtonEl.classList.remove('colab-df-spinner');\n",
       "      quickchartButtonEl.classList.add('colab-df-quickchart-complete');\n",
       "    }\n",
       "    (() => {\n",
       "      let quickchartButtonEl =\n",
       "        document.querySelector('#df-5030dbf5-15e3-442e-a96b-59032b46325b button');\n",
       "      quickchartButtonEl.style.display =\n",
       "        google.colab.kernel.accessAllowed ? 'block' : 'none';\n",
       "    })();\n",
       "  </script>\n",
       "</div>\n",
       "\n",
       "    </div>\n",
       "  </div>\n"
      ],
      "text/plain": [
       "              Suburb         Address  Rooms Type      Price Method   SellerG  \\\n",
       "0          Thornbury  7/67 Pender St      2    u   438000.0     SP      Love   \n",
       "1             Coburg      32 Rose St      2    h   901000.0      S     Peter   \n",
       "2     Bentleigh East  2/25 Brooks St      3    u   800000.0      S  Woodards   \n",
       "3  Templestowe Lower    2/35 John St      3    t  1155000.0      S    Jellis   \n",
       "4        South Yarra   1/35 Marne St      3    u  1630000.0     PI    Jellis   \n",
       "\n",
       "         Date  Distance  Postcode  ...  Bathroom  Car  Landsize  BuildingArea  \\\n",
       "0  22/08/2016       6.5      3071  ...       1.0  1.0       0.0          66.0   \n",
       "1  27/06/2016       7.8      3058  ...       1.0  1.0     545.0         107.0   \n",
       "2  28/05/2016      13.9      3165  ...       2.0  2.0     261.0           NaN   \n",
       "3  25/11/2017      12.4      3107  ...       NaN  NaN       NaN           NaN   \n",
       "4   10/9/2016       3.3      3141  ...       1.0  1.0       0.0           NaN   \n",
       "\n",
       "   YearBuilt              CouncilArea Lattitude  Longtitude  \\\n",
       "0     1970.0     Darebin City Council  -37.7541    145.0088   \n",
       "1     1940.0     Darebin City Council  -37.7445    144.9471   \n",
       "2        NaN   Glen Eira City Council  -37.9163    145.0779   \n",
       "3        NaN  Manningham City Council       NaN         NaN   \n",
       "4        NaN   Melbourne City Council  -37.8359    144.9839   \n",
       "\n",
       "              Regionname Propertycount  \n",
       "0  Northern Metropolitan          8870  \n",
       "1  Northern Metropolitan         11204  \n",
       "2  Southern Metropolitan         10969  \n",
       "3   Eastern Metropolitan          5420  \n",
       "4  Southern Metropolitan         14887  \n",
       "\n",
       "[5 rows x 21 columns]"
      ]
     },
     "execution_count": 2,
     "metadata": {},
     "output_type": "execute_result"
    }
   ],
   "source": [
    "# Load data\n",
    "data_housing = pd.read_csv('/content/Melbourne_housing.csv')\n",
    "data_housing.head()"
   ]
  },
  {
   "cell_type": "code",
   "execution_count": 3,
   "metadata": {
    "colab": {
     "base_uri": "https://localhost:8080/"
    },
    "id": "oYqyub4IKa9r",
    "outputId": "99fbc82e-1a32-45e2-e71b-9b3a5ee62456"
   },
   "outputs": [
    {
     "name": "stdout",
     "output_type": "stream",
     "text": [
      "<class 'pandas.core.frame.DataFrame'>\n",
      "RangeIndex: 499 entries, 0 to 498\n",
      "Data columns (total 21 columns):\n",
      " #   Column         Non-Null Count  Dtype  \n",
      "---  ------         --------------  -----  \n",
      " 0   Suburb         499 non-null    object \n",
      " 1   Address        499 non-null    object \n",
      " 2   Rooms          499 non-null    int64  \n",
      " 3   Type           499 non-null    object \n",
      " 4   Price          391 non-null    float64\n",
      " 5   Method         499 non-null    object \n",
      " 6   SellerG        499 non-null    object \n",
      " 7   Date           499 non-null    object \n",
      " 8   Distance       499 non-null    float64\n",
      " 9   Postcode       499 non-null    int64  \n",
      " 10  Bedroom2       371 non-null    float64\n",
      " 11  Bathroom       371 non-null    float64\n",
      " 12  Car            362 non-null    float64\n",
      " 13  Landsize       325 non-null    float64\n",
      " 14  BuildingArea   189 non-null    float64\n",
      " 15  YearBuilt      212 non-null    float64\n",
      " 16  CouncilArea    499 non-null    object \n",
      " 17  Lattitude      377 non-null    float64\n",
      " 18  Longtitude     377 non-null    float64\n",
      " 19  Regionname     499 non-null    object \n",
      " 20  Propertycount  499 non-null    int64  \n",
      "dtypes: float64(10), int64(3), object(8)\n",
      "memory usage: 82.0+ KB\n",
      "None\n"
     ]
    }
   ],
   "source": [
    "# Check the structure of the data\n",
    "print(data_housing.info())"
   ]
  },
  {
   "cell_type": "code",
   "execution_count": 4,
   "metadata": {
    "colab": {
     "base_uri": "https://localhost:8080/"
    },
    "id": "Sh-5HMn4PEQg",
    "outputId": "94764e6d-aec9-41bf-fa26-89a098d1951d"
   },
   "outputs": [
    {
     "name": "stdout",
     "output_type": "stream",
     "text": [
      "                Suburb          Address       Rooms Type         Price Method  \\\n",
      "count              499              499  499.000000  499  3.910000e+02    499   \n",
      "unique             184              498         NaN    3           NaN      9   \n",
      "top     Bentleigh East  10/2 Howlett St         NaN    h           NaN      S   \n",
      "freq                11                2         NaN  329           NaN    281   \n",
      "mean               NaN              NaN    3.028056  NaN  1.037080e+06    NaN   \n",
      "std                NaN              NaN    0.945935  NaN  6.345152e+05    NaN   \n",
      "min                NaN              NaN    1.000000  NaN  2.100000e+05    NaN   \n",
      "25%                NaN              NaN    2.000000  NaN  6.100000e+05    NaN   \n",
      "50%                NaN              NaN    3.000000  NaN  8.705000e+05    NaN   \n",
      "75%                NaN              NaN    4.000000  NaN  1.262500e+06    NaN   \n",
      "max                NaN              NaN    6.000000  NaN  5.500000e+06    NaN   \n",
      "\n",
      "       SellerG        Date    Distance     Postcode  ...    Bathroom  \\\n",
      "count      499         499  499.000000   499.000000  ...  371.000000   \n",
      "unique      90          97         NaN          NaN  ...         NaN   \n",
      "top     Jellis  28/10/2017         NaN          NaN  ...         NaN   \n",
      "freq        54          21         NaN          NaN  ...         NaN   \n",
      "mean       NaN         NaN   10.976152  3113.863727  ...    1.649596   \n",
      "std        NaN         NaN    6.441436   111.281137  ...    0.785764   \n",
      "min        NaN         NaN    1.200000  3000.000000  ...    1.000000   \n",
      "25%        NaN         NaN    6.400000  3046.000000  ...    1.000000   \n",
      "50%        NaN         NaN   10.400000  3101.000000  ...    1.000000   \n",
      "75%        NaN         NaN   13.900000  3152.500000  ...    2.000000   \n",
      "max        NaN         NaN   44.200000  3910.000000  ...    6.000000   \n",
      "\n",
      "               Car      Landsize  BuildingArea    YearBuilt  \\\n",
      "count   362.000000    325.000000    189.000000   212.000000   \n",
      "unique         NaN           NaN           NaN          NaN   \n",
      "top            NaN           NaN           NaN          NaN   \n",
      "freq           NaN           NaN           NaN          NaN   \n",
      "mean      1.737569    533.400000    152.461905  1968.117925   \n",
      "std       1.020658    677.848689     87.227886    35.950470   \n",
      "min       0.000000      0.000000      0.000000  1879.000000   \n",
      "25%       1.000000    225.000000     97.000000  1950.000000   \n",
      "50%       2.000000    535.000000    130.000000  1970.000000   \n",
      "75%       2.000000    697.000000    194.000000  2001.000000   \n",
      "max       8.000000  10100.000000    572.000000  2017.000000   \n",
      "\n",
      "                    CouncilArea   Lattitude  Longtitude  \\\n",
      "count                       499  377.000000  377.000000   \n",
      "unique                       30         NaN         NaN   \n",
      "top     Boroondara City Council         NaN         NaN   \n",
      "freq                         55         NaN         NaN   \n",
      "mean                        NaN  -37.805206  144.997510   \n",
      "std                         NaN    0.085016    0.113628   \n",
      "min                         NaN  -38.138600  144.570500   \n",
      "25%                         NaN  -37.853800  144.927300   \n",
      "50%                         NaN  -37.802500  144.998000   \n",
      "75%                         NaN  -37.750100  145.066200   \n",
      "max                         NaN  -37.407440  145.440820   \n",
      "\n",
      "                   Regionname Propertycount  \n",
      "count                     499    499.000000  \n",
      "unique                      8           NaN  \n",
      "top     Southern Metropolitan           NaN  \n",
      "freq                      172           NaN  \n",
      "mean                      NaN   7332.272545  \n",
      "std                       NaN   4184.540082  \n",
      "min                       NaN    768.000000  \n",
      "25%                       NaN   4380.000000  \n",
      "50%                       NaN   6543.000000  \n",
      "75%                       NaN   9540.000000  \n",
      "max                       NaN  21650.000000  \n",
      "\n",
      "[11 rows x 21 columns]\n"
     ]
    }
   ],
   "source": [
    "# Display the summary of the data\n",
    "print(data_housing.describe(include='all'))"
   ]
  },
  {
   "cell_type": "code",
   "execution_count": 5,
   "metadata": {
    "colab": {
     "base_uri": "https://localhost:8080/"
    },
    "id": "wvucaPQ0MEHJ",
    "outputId": "450f099a-460f-45d5-d9a8-81d93d9faf0b"
   },
   "outputs": [
    {
     "name": "stdout",
     "output_type": "stream",
     "text": [
      "                 Suburb         Address  Rooms Type      Price Method  \\\n",
      "0             Thornbury  7/67 Pender St      2    u   438000.0     SP   \n",
      "1                Coburg      32 Rose St      2    h   901000.0      S   \n",
      "2        Bentleigh East  2/25 Brooks St      3    u   800000.0      S   \n",
      "3     Templestowe Lower    2/35 John St      3    t  1155000.0      S   \n",
      "4           South Yarra   1/35 Marne St      3    u  1630000.0     PI   \n",
      "..                  ...             ...    ...  ...        ...    ...   \n",
      "494            Sunshine  74 Hertford Rd      2    h   965000.0      S   \n",
      "495          Springvale   15 Phillip Av      3    h   721000.0      S   \n",
      "496         Middle Park     150 Page St      3    h  1750000.0     VB   \n",
      "497             Glenroy   14 William St      3    h   501000.0     SP   \n",
      "498  Heidelberg Heights     1 Dennis St      3    h        NaN      S   \n",
      "\n",
      "      SellerG        Date  Distance  Postcode  ...  Bathroom  Car  Landsize  \\\n",
      "0        Love  22/08/2016       6.5      3071  ...       1.0  1.0       0.0   \n",
      "1       Peter  27/06/2016       7.8      3058  ...       1.0  1.0     545.0   \n",
      "2    Woodards  28/05/2016      13.9      3165  ...       2.0  2.0     261.0   \n",
      "3      Jellis  25/11/2017      12.4      3107  ...       NaN  NaN       NaN   \n",
      "4      Jellis   10/9/2016       3.3      3141  ...       1.0  1.0       0.0   \n",
      "..        ...         ...       ...       ...  ...       ...  ...       ...   \n",
      "494     Barry  26/08/2017      10.5      3020  ...       1.0  1.0       NaN   \n",
      "495      Hall  24/06/2017      20.8      3171  ...       NaN  NaN       NaN   \n",
      "496      Greg  27/05/2017       3.0      3206  ...       2.0  0.0     138.0   \n",
      "497     Raine  28/05/2016      13.0      3046  ...       1.0  1.0     348.0   \n",
      "498     Barry  24/06/2017       8.8      3081  ...       1.0  1.0     650.0   \n",
      "\n",
      "     BuildingArea  YearBuilt                     CouncilArea Lattitude  \\\n",
      "0            66.0     1970.0            Darebin City Council -37.75410   \n",
      "1           107.0     1940.0            Darebin City Council -37.74450   \n",
      "2             NaN        NaN          Glen Eira City Council -37.91630   \n",
      "3             NaN        NaN         Manningham City Council       NaN   \n",
      "4             NaN        NaN          Melbourne City Council -37.83590   \n",
      "..            ...        ...                             ...       ...   \n",
      "494           NaN        NaN           Brimbank City Council -37.78227   \n",
      "495           NaN        NaN  Greater Dandenong City Council       NaN   \n",
      "496         155.0     1885.0       Port Phillip City Council -37.84962   \n",
      "497           NaN        NaN           Moreland City Council -37.71190   \n",
      "498           NaN        NaN            Banyule City Council -37.74142   \n",
      "\n",
      "     Longtitude                  Regionname Propertycount  \n",
      "0     145.00880       Northern Metropolitan          8870  \n",
      "1     144.94710       Northern Metropolitan         11204  \n",
      "2     145.07790       Southern Metropolitan         10969  \n",
      "3           NaN        Eastern Metropolitan          5420  \n",
      "4     144.98390       Southern Metropolitan         14887  \n",
      "..          ...                         ...           ...  \n",
      "494   144.84038        Western Metropolitan          3755  \n",
      "495         NaN  South-Eastern Metropolitan          7412  \n",
      "496   144.95856       Southern Metropolitan          2019  \n",
      "497   144.91110       Northern Metropolitan          8870  \n",
      "498   145.05535        Eastern Metropolitan          2947  \n",
      "\n",
      "[499 rows x 21 columns]\n"
     ]
    }
   ],
   "source": [
    "# Removing Unamed Column\n",
    "df = data_housing.loc[:, ~data_housing.columns.str.contains('^Unnamed')]\n",
    "print(df)"
   ]
  },
  {
   "cell_type": "markdown",
   "metadata": {
    "id": "YgOjU7PxVnq3"
   },
   "source": [
    "### **Visualizations**"
   ]
  },
  {
   "cell_type": "code",
   "execution_count": 6,
   "metadata": {
    "colab": {
     "base_uri": "https://localhost:8080/",
     "height": 496
    },
    "id": "wz39aufjVmx4",
    "outputId": "84584c45-ebc0-4b18-98a3-4f31b6f9322d"
   },
   "outputs": [
    {
     "data": {
      "image/png": "[encoded data removed]",
      "text/plain": [
       "<Figure size 1000x500 with 1 Axes>"
      ]
     },
     "metadata": {},
     "output_type": "display_data"
    }
   ],
   "source": [
    "# Histogram of Property Price\n",
    "sns.set(style=\"whitegrid\")\n",
    "plt.figure(figsize=(10, 5))\n",
    "df['Price'].hist(bins=10)\n",
    "plt.title(\"Histogram of Property Price\")\n",
    "plt.xlabel(\"Price\")\n",
    "plt.ylabel(\"Frequency\")\n",
    "plt.show()"
   ]
  },
  {
   "cell_type": "markdown",
   "metadata": {
    "id": "nnOlNFjo_2Zm"
   },
   "source": [
    "**Insights:**\n",
    "\n",
    "- The Price data seems to be right skewed with the mean centered around 1 million. This suggests that there are large number of properties with lower prices and small number of properties with higher prices (a general scenario in the real estate business).\n"
   ]
  },
  {
   "cell_type": "code",
   "execution_count": 7,
   "metadata": {
    "colab": {
     "base_uri": "https://localhost:8080/",
     "height": 573
    },
    "id": "lJB2kvCj_6hZ",
    "outputId": "32a14be2-73bf-4319-fed3-2c88169e4d90"
   },
   "outputs": [
    {
     "data": {
      "image/png": "[encoded data removed]",
      "text/plain": [
       "<Figure size 1200x600 with 1 Axes>"
      ]
     },
     "metadata": {},
     "output_type": "display_data"
    }
   ],
   "source": [
    "# Box Plot of Landsize\n",
    "plt.figure(figsize=(12, 6))\n",
    "sns.boxplot(x=df[df['Landsize'] < 4000]['Landsize'])\n",
    "plt.title('Box Plot of Landsize')\n",
    "plt.xlabel('Landsize (sqm)')\n",
    "plt.show()"
   ]
  },
  {
   "cell_type": "markdown",
   "metadata": {
    "id": "qt46D3wqE8gg"
   },
   "source": [
    "**Insights:**\n",
    "\n",
    "- The median landsize appears to be 500 sqm. And majortity of the properties seem to have less than 500 sqm.\n",
    "- Several points above the upper whisker seem to be outliers and they indicate unusually large landsizes.\n",
    "- The extreme outlier lies above 3500 sqm which is unusually very large."
   ]
  },
  {
   "cell_type": "code",
   "execution_count": 8,
   "metadata": {
    "colab": {
     "base_uri": "https://localhost:8080/",
     "height": 128
    },
    "id": "9t5As1IjFHJQ",
    "outputId": "af7d19c5-0248-4af6-a275-20b2ddadabd7"
   },
   "outputs": [
    {
     "data": {
      "image/png": "[encoded data removed]",
      "text/plain": [
       "<Figure size 3000x250 with 12 Axes>"
      ]
     },
     "metadata": {},
     "output_type": "display_data"
    }
   ],
   "source": [
    "# Scatter Plot\n",
    "numeric_cols = df.select_dtypes(include=[np.number]).columns.tolist()\n",
    "sns.pairplot(df, x_vars=[col for col in numeric_cols if col!='Price'],\n",
    "             y_vars='Price', kind='scatter')\n",
    "plt.show()"
   ]
  },
  {
   "cell_type": "markdown",
   "metadata": {
    "id": "Pa3ZZLZMG-Q4"
   },
   "source": [
    "**Insights:**\n",
    "\n",
    "- In all the scatter plots, there appears to be no linear relationship between the response variable and the numeric variables due to clustering and no clear patterns.\n",
    "- There appears to be an outlier in almost every plot that is affecting the appearance of the these relationships.\n",
    "- And clearly there is a lack of pattern in the relationship between 'YearBuilt' and 'Price', indicating that other variables might have a significant effect on the response variable than 'YearBuilt'."
   ]
  },
  {
   "cell_type": "markdown",
   "metadata": {
    "id": "fY5I3_T7HCms"
   },
   "source": [
    "## **2. Linear Regression Model Development**"
   ]
  },
  {
   "cell_type": "markdown",
   "metadata": {
    "id": "Iq_krITHIYpP"
   },
   "source": [
    "### *Handling Missing Values*\n",
    "\n",
    "> Step 1: We look for missing values. Values more than 40 are either removed or imputed. In this case, I kept the variable with the value greater than 40 because I thought it might have some relevance in the model development.\n",
    "\n",
    "> Step 2: Removed irrelevant variables that do not have an effect on the response variable.\n",
    "\n",
    "\n",
    "> Step 3: Encoded relevant categorical variables to include in the model.\n",
    "\n",
    "\n",
    "\n",
    "\n",
    "\n"
   ]
  },
  {
   "cell_type": "code",
   "execution_count": 9,
   "metadata": {
    "colab": {
     "base_uri": "https://localhost:8080/"
    },
    "id": "vKg0sD1mHNOq",
    "outputId": "cd224e82-5acb-4306-d9e3-8e9f4e724864"
   },
   "outputs": [
    {
     "name": "stdout",
     "output_type": "stream",
     "text": [
      "Suburb column missing values: 0.0\n",
      "Address column missing values: 0.0\n",
      "Rooms column missing values: 0.0\n",
      "Type column missing values: 0.0\n",
      "Price column missing values: 21.64328657314629\n",
      "Method column missing values: 0.0\n",
      "SellerG column missing values: 0.0\n",
      "Date column missing values: 0.0\n",
      "Distance column missing values: 0.0\n",
      "Postcode column missing values: 0.0\n",
      "Bedroom2 column missing values: 25.651302605210418\n",
      "Bathroom column missing values: 25.651302605210418\n",
      "Car column missing values: 27.45490981963928\n",
      "Landsize column missing values: 34.86973947895792\n",
      "BuildingArea column missing values: 62.124248496993985\n",
      "YearBuilt column missing values: 57.51503006012024\n",
      "CouncilArea column missing values: 0.0\n",
      "Lattitude column missing values: 24.448897795591183\n",
      "Longtitude column missing values: 24.448897795591183\n",
      "Regionname column missing values: 0.0\n",
      "Propertycount column missing values: 0.0\n",
      "\n",
      "\n"
     ]
    }
   ],
   "source": [
    "# Handling missing values\n",
    "\n",
    "cols_to_drop=[]\n",
    "def display_missing_perc(df):\n",
    "    for col in df.columns.tolist():\n",
    "        missing_value = 100*(df[col].isnull().sum()/len(df[col]))\n",
    "        print(f'{col} column missing values: {missing_value}')\n",
    "        if missing_value >= 40:\n",
    "            cols_to_drop.append(col)\n",
    "    print('\\n')\n",
    "display_missing_perc(df)"
   ]
  },
  {
   "cell_type": "code",
   "execution_count": 10,
   "metadata": {
    "id": "MyNrHkY9Y8BA"
   },
   "outputs": [],
   "source": [
    "# Removing irrelevant variables\n",
    "cols_to_drop.extend(['Suburb', 'Address', 'Method', 'SellerG', 'Date', 'Postcode', 'CouncilArea'])\n",
    "df.drop(cols_to_drop, axis = 1, inplace = True)"
   ]
  },
  {
   "cell_type": "code",
   "execution_count": 11,
   "metadata": {
    "colab": {
     "base_uri": "https://localhost:8080/"
    },
    "id": "VgHLmfAFtRHH",
    "outputId": "8e5ff198-7220-4adb-d14a-b38b60838118"
   },
   "outputs": [
    {
     "name": "stdout",
     "output_type": "stream",
     "text": [
      "     Rooms      Price  Distance  Bedroom2  Bathroom  Car  Landsize  Lattitude  \\\n",
      "0        2   438000.0       6.5       2.0       1.0  1.0       0.0  -37.75410   \n",
      "1        2   901000.0       7.8       2.0       1.0  1.0     545.0  -37.74450   \n",
      "2        3   800000.0      13.9       3.0       2.0  2.0     261.0  -37.91630   \n",
      "3        3  1155000.0      12.4       NaN       NaN  NaN       NaN        NaN   \n",
      "4        3  1630000.0       3.3       3.0       1.0  1.0       0.0  -37.83590   \n",
      "..     ...        ...       ...       ...       ...  ...       ...        ...   \n",
      "494      2   965000.0      10.5       2.0       1.0  1.0       NaN  -37.78227   \n",
      "495      3   721000.0      20.8       NaN       NaN  NaN       NaN        NaN   \n",
      "496      3  1750000.0       3.0       3.0       2.0  0.0     138.0  -37.84962   \n",
      "497      3   501000.0      13.0       3.0       1.0  1.0     348.0  -37.71190   \n",
      "498      3        NaN       8.8       3.0       1.0  1.0     650.0  -37.74142   \n",
      "\n",
      "     Longtitude  Propertycount  ...  Type_t  Type_u  \\\n",
      "0     145.00880           8870  ...       0       1   \n",
      "1     144.94710          11204  ...       0       0   \n",
      "2     145.07790          10969  ...       0       1   \n",
      "3           NaN           5420  ...       1       0   \n",
      "4     144.98390          14887  ...       0       1   \n",
      "..          ...            ...  ...     ...     ...   \n",
      "494   144.84038           3755  ...       0       0   \n",
      "495         NaN           7412  ...       0       0   \n",
      "496   144.95856           2019  ...       0       0   \n",
      "497   144.91110           8870  ...       0       0   \n",
      "498   145.05535           2947  ...       0       0   \n",
      "\n",
      "     Regionname_Eastern Metropolitan  Regionname_Eastern Victoria  \\\n",
      "0                                  0                            0   \n",
      "1                                  0                            0   \n",
      "2                                  0                            0   \n",
      "3                                  1                            0   \n",
      "4                                  0                            0   \n",
      "..                               ...                          ...   \n",
      "494                                0                            0   \n",
      "495                                0                            0   \n",
      "496                                0                            0   \n",
      "497                                0                            0   \n",
      "498                                1                            0   \n",
      "\n",
      "     Regionname_Northern Metropolitan  Regionname_Northern Victoria  \\\n",
      "0                                   1                             0   \n",
      "1                                   1                             0   \n",
      "2                                   0                             0   \n",
      "3                                   0                             0   \n",
      "4                                   0                             0   \n",
      "..                                ...                           ...   \n",
      "494                                 0                             0   \n",
      "495                                 0                             0   \n",
      "496                                 0                             0   \n",
      "497                                 1                             0   \n",
      "498                                 0                             0   \n",
      "\n",
      "     Regionname_South-Eastern Metropolitan  Regionname_Southern Metropolitan  \\\n",
      "0                                        0                                 0   \n",
      "1                                        0                                 0   \n",
      "2                                        0                                 1   \n",
      "3                                        0                                 0   \n",
      "4                                        0                                 1   \n",
      "..                                     ...                               ...   \n",
      "494                                      0                                 0   \n",
      "495                                      1                                 0   \n",
      "496                                      0                                 1   \n",
      "497                                      0                                 0   \n",
      "498                                      0                                 0   \n",
      "\n",
      "     Regionname_Western Metropolitan  Regionname_Western Victoria  \n",
      "0                                  0                            0  \n",
      "1                                  0                            0  \n",
      "2                                  0                            0  \n",
      "3                                  0                            0  \n",
      "4                                  0                            0  \n",
      "..                               ...                          ...  \n",
      "494                                1                            0  \n",
      "495                                0                            0  \n",
      "496                                0                            0  \n",
      "497                                0                            0  \n",
      "498                                0                            0  \n",
      "\n",
      "[499 rows x 31 columns]\n"
     ]
    }
   ],
   "source": [
    "# Drop the original 'Type' and 'Regionname' columns from df\n",
    "df_dropped = df.drop(['Type', 'Regionname'], axis=1)\n",
    "\n",
    "# Encode the 'Type' and 'Regionname' columns using one-hot encoding\n",
    "df_encoded = pd.get_dummies(df, columns=['Type', 'Regionname'])\n",
    "\n",
    "# Concatenate the encoded DataFrame with the original DataFrame without the dropped columns\n",
    "df_final = pd.concat([df_dropped, df_encoded], axis=1)\n",
    "\n",
    "# Final dataframe that has the original data with 'Type' and 'Regionname' encoded\n",
    "print(df_final)"
   ]
  },
  {
   "cell_type": "markdown",
   "metadata": {
    "id": "wDctg21xdKyz"
   },
   "source": [
    "## **3. Model Evaluation**"
   ]
  },
  {
   "cell_type": "code",
   "execution_count": 12,
   "metadata": {
    "id": "ZDeuEGIitdnq"
   },
   "outputs": [],
   "source": [
    "# Identify the features (independent variables) and the target variable (dependent variable)\n",
    "X = df_final.drop('Price', axis=1)  # Features\n",
    "X = sm.add_constant(X)\n",
    "y = df_final['Price']  # Target variable"
   ]
  },
  {
   "cell_type": "code",
   "execution_count": 13,
   "metadata": {
    "id": "jM4wWzJN0x19"
   },
   "outputs": [],
   "source": [
    "# Dropping all rows where any NaN values are present\n",
    "df_final.dropna(inplace=True)"
   ]
  },
  {
   "cell_type": "code",
   "execution_count": 14,
   "metadata": {
    "id": "cBCwnOlbf8iw"
   },
   "outputs": [],
   "source": [
    "from sklearn.impute import SimpleImputer\n",
    "\n",
    "# This will fill in NaNs with the mean value of each column\n",
    "imputer = SimpleImputer(missing_values=np.nan, strategy='mean')\n",
    "X_impute = imputer.fit_transform(X)\n",
    "y_impute = imputer.fit_transform(y)"
   ]
  },
  {
   "cell_type": "code",
   "execution_count": 15,
   "metadata": {
    "id": "kOaiFF4H1GXj"
   },
   "outputs": [],
   "source": [
    "# Split the data into training and test sets\n",
    "X_train, X_test, y_train, y_test = train_test_split(X_impute, y_impute, test_size=0.2, random_state=42)"
   ]
  },
  {
   "cell_type": "code",
   "execution_count": 16,
   "metadata": {
    "id": "wicUnHr92InX"
   },
   "outputs": [],
   "source": [
    "# Assuming you have already prepared X_train, y_train, X_test\n",
    "linear_regression_model = LinearRegression()\n",
    "linear_regression_model.fit(X_train, y_train)  # Train the model using the training data\n",
    "\n",
    "y_pred_train = linear_regression_model.predict(X_train)\n",
    "y_pred_test = linear_regression_model.predict(X_test)  # Make predictions using the test data"
   ]
  },
  {
   "cell_type": "code",
   "execution_count": 17,
   "metadata": {
    "colab": {
     "base_uri": "https://localhost:8080/"
    },
    "id": "-nGFL6FzlGp4",
    "outputId": "0738a8f8-7502-4e1b-82f9-44c38344ac48"
   },
   "outputs": [
    {
     "name": "stdout",
     "output_type": "stream",
     "text": [
      "Linear R-squared train: 0.4258023457530262\n",
      "Linear Root Mean Squared Error (RMSE) train: 446496.61737790814\n"
     ]
    }
   ],
   "source": [
    "# Evaluating the TRAIN data using metrics like R^2 and RMSE for linear regression model\n",
    "r2_train = r2_score(y_train, y_pred_train)\n",
    "rmse_train = sqrt(mean_squared_error(y_train, y_pred_train))\n",
    "print(f\"Linear R-squared train: {r2_train}\")\n",
    "print(f\"Linear Root Mean Squared Error (RMSE) train: {rmse_train}\")"
   ]
  },
  {
   "cell_type": "code",
   "execution_count": 18,
   "metadata": {
    "colab": {
     "base_uri": "https://localhost:8080/"
    },
    "id": "hcrN7fOalKJ_",
    "outputId": "000d676b-370f-406e-8866-daeffc9732f1"
   },
   "outputs": [
    {
     "name": "stdout",
     "output_type": "stream",
     "text": [
      "Linear R-squared test: 0.37008866566769205\n",
      "Linear Root Mean Squared Error (RMSE) test: 338881.05317811656\n"
     ]
    }
   ],
   "source": [
    "# Evaluating TEST data using metrics like R^2 and RMSE for linear regression model\n",
    "r2_test = r2_score(y_test, y_pred_test)\n",
    "rmse_test = sqrt(mean_squared_error(y_test, y_pred_test))\n",
    "print(f\"Linear R-squared test: {r2_test}\")\n",
    "print(f\"Linear Root Mean Squared Error (RMSE) test: {rmse_test}\")"
   ]
  },
  {
   "cell_type": "markdown",
   "metadata": {
    "id": "oGJVI9L-aSzp"
   },
   "source": [
    "**Insights:**\n",
    "\n",
    "- The R^2 for training and testing datasets are relatively low indicating that the model does not explain a large portion of the variability in the prices\n",
    "- The RMSE values are unusually very high making the overall model's prediction off/under-performing\n",
    "- Overall the model's performance is not very strong and we might need to use another model to boost its performance"
   ]
  },
  {
   "cell_type": "markdown",
   "metadata": {
    "id": "61TAhHZ-anfD"
   },
   "source": [
    "## **4. Regularization**"
   ]
  },
  {
   "cell_type": "markdown",
   "metadata": {
    "id": "SdC1hb6Nl9PX"
   },
   "source": [
    "**Need for Regularization:**\n",
    "\n",
    "Yes there is a need for Regularization because the R^2 for train and test data of the Linear Regression model were very poor (Train R^2: 0.42; Test R^2: 0.37) indicating overfitting. Lasso Regression model (regularization) can be used to reduce overfitting by penalizing the coefficients of the independent variables."
   ]
  },
  {
   "cell_type": "code",
   "execution_count": 19,
   "metadata": {
    "id": "3nqMUL_4lITl"
   },
   "outputs": [],
   "source": [
    "# Scaling the features\n",
    "scaler = StandardScaler()\n",
    "X_train_scaled = scaler.fit_transform(X_train)\n",
    "X_test_scaled = scaler.transform(X_test)"
   ]
  },
  {
   "cell_type": "code",
   "execution_count": 20,
   "metadata": {
    "colab": {
     "base_uri": "https://localhost:8080/"
    },
    "id": "fXoA4jn0yEJV",
    "outputId": "117f6912-deda-499e-d0fc-87e819703fdf"
   },
   "outputs": [
    {
     "name": "stdout",
     "output_type": "stream",
     "text": [
      "Best alpha: 18376.38341880555\n"
     ]
    }
   ],
   "source": [
    "# Decide the best lambda coefficient\n",
    "from sklearn.linear_model import MultiTaskLassoCV\n",
    "\n",
    "lasso_cv = MultiTaskLassoCV(alphas=None, cv=5, random_state=0)\n",
    "\n",
    "# Fit the model\n",
    "lasso_cv.fit(X_train_scaled, y_train)\n",
    "\n",
    "# Best alpha\n",
    "print(f\"Best alpha: {lasso_cv.alpha_}\")"
   ]
  },
  {
   "cell_type": "code",
   "execution_count": 21,
   "metadata": {
    "colab": {
     "base_uri": "https://localhost:8080/"
    },
    "id": "SfGi0-Nox_VT",
    "outputId": "7a1455e4-5435-48f6-bb59-6848ae2852a5"
   },
   "outputs": [
    {
     "name": "stdout",
     "output_type": "stream",
     "text": [
      "Lasso coefficients: [[ 0.00000000e+00  7.14494686e+04 -1.10881050e+05  0.00000000e+00\n",
      "   1.31922655e+05  2.43765371e+04  7.07213659e+03 -5.37983990e+04\n",
      "   2.60878444e+04  0.00000000e+00  7.05938304e+03 -3.56849660e+04\n",
      "   0.00000000e+00  1.53479195e+00  0.00000000e+00  3.70136507e+00\n",
      "  -3.30726143e+03  9.15439938e+03  0.00000000e+00  8.74976767e+04\n",
      "  -0.00000000e+00 -9.73594656e+04  0.00000000e+00 -0.00000000e+00\n",
      "  -8.03979610e+03  0.00000000e+00  0.00000000e+00  8.66683334e+04\n",
      "  -1.14650829e+04 -0.00000000e+00]\n",
      " [ 0.00000000e+00  7.14494686e+04 -1.10881050e+05  0.00000000e+00\n",
      "   1.31922655e+05  2.43765371e+04  7.07213659e+03 -5.37983990e+04\n",
      "   2.60878444e+04  0.00000000e+00  7.05938304e+03 -3.56849660e+04\n",
      "   0.00000000e+00  1.53479195e+00  0.00000000e+00  3.70136507e+00\n",
      "  -3.30726143e+03  9.15439938e+03  0.00000000e+00  8.74976767e+04\n",
      "  -0.00000000e+00 -9.73594656e+04  0.00000000e+00 -0.00000000e+00\n",
      "  -8.03979610e+03  0.00000000e+00  0.00000000e+00  8.66683334e+04\n",
      "  -1.14650829e+04 -0.00000000e+00]]\n"
     ]
    }
   ],
   "source": [
    "# Initialize the Lasso regression model with a specific alpha value\n",
    "lasso_model = Lasso(alpha=18376.38)\n",
    "\n",
    "# Fit the model on the scaled training data\n",
    "lasso_model.fit(X_train_scaled, y_train)\n",
    "\n",
    "# Make predictions using the model on both the scaled training and test sets\n",
    "y_train_pred = lasso_model.predict(X_train_scaled)\n",
    "y_test_pred = lasso_model.predict(X_test_scaled)\n",
    "\n",
    "print(\"Lasso coefficients:\", lasso_model.coef_)"
   ]
  },
  {
   "cell_type": "code",
   "execution_count": 22,
   "metadata": {
    "id": "2Mr8nYpABNWo"
   },
   "outputs": [],
   "source": [
    "# Evaluating the model performance\n",
    "train_r2 = r2_score(y_train, y_train_pred)\n",
    "test_r2 = r2_score(y_test, y_test_pred)\n",
    "train_rmse = sqrt(mean_squared_error(y_train, y_train_pred))\n",
    "test_rmse = sqrt(mean_squared_error(y_test, y_test_pred))"
   ]
  },
  {
   "cell_type": "code",
   "execution_count": 23,
   "metadata": {
    "colab": {
     "base_uri": "https://localhost:8080/"
    },
    "id": "qYyzO_hNoZfI",
    "outputId": "e0472940-3f21-4a96-ab6f-73bbf463e8a1"
   },
   "outputs": [
    {
     "name": "stdout",
     "output_type": "stream",
     "text": [
      "Lasso Training R-squared: 0.4102805344906686\n",
      "Lasso Training RMSE: 452491.2627128581\n"
     ]
    }
   ],
   "source": [
    "# Evaluating TRAIN data for Lasso Regression model\n",
    "print(f\"Lasso Training R-squared: {train_r2}\")\n",
    "print(f\"Lasso Training RMSE: {train_rmse}\")"
   ]
  },
  {
   "cell_type": "code",
   "execution_count": 24,
   "metadata": {
    "colab": {
     "base_uri": "https://localhost:8080/"
    },
    "id": "1pgRGyQOofc2",
    "outputId": "b3cbe838-2b87-47c7-eee2-1c3faf4adbe8"
   },
   "outputs": [
    {
     "name": "stdout",
     "output_type": "stream",
     "text": [
      "Lasso Test R-squared: 0.39312367130353476\n",
      "Lasso Test RMSE: 332627.1354569728\n"
     ]
    }
   ],
   "source": [
    "# Evaluating TEST data for Lasso Regression model\n",
    "print(f\"Lasso Test R-squared: {test_r2}\")\n",
    "print(f\"Lasso Test RMSE: {test_rmse}\")"
   ]
  },
  {
   "cell_type": "markdown",
   "metadata": {
    "id": "-s9SZl1854cH"
   },
   "source": [
    "**Insights:**\n",
    "\n",
    "- The optimal alpha turned out to be 18376.38, which is very high. This means that a strong regularization was performed on the model leading to the shrinking of coefficients and therefore increasing interpretability.\n",
    "- High alpha likely retains features that have significant impact on the response variable and sets the other coefficients to zero.\n",
    "- There's been a positive increase in R^2 for the out-of-sample data due to regularization, which does seem like some improvement but it is still not very high performing.\n"
   ]
  },
  {
   "cell_type": "markdown",
   "metadata": {
    "id": "FcqyaFAi56KN"
   },
   "source": [
    "## **5. OUT-OF-SAMPLE PERFORMANCE**"
   ]
  },
  {
   "cell_type": "markdown",
   "metadata": {
    "id": "V8LMAR2rEogi"
   },
   "source": [
    "### **Newly Trained Linear and Lasso Regression Models**"
   ]
  },
  {
   "cell_type": "markdown",
   "metadata": {
    "id": "Mz_y6oBS-Y89"
   },
   "source": [
    "***Linear Regression Model: Newly Trained***"
   ]
  },
  {
   "cell_type": "code",
   "execution_count": 25,
   "metadata": {
    "id": "yQa5IODGCYxm"
   },
   "outputs": [],
   "source": [
    "# Identify the features (independent variables) and the target variable (dependent variable)\n",
    "X = df_final.drop('Price', axis=1)  # Features\n",
    "X = sm.add_constant(X)\n",
    "y = df_final['Price']  # Target variable"
   ]
  },
  {
   "cell_type": "code",
   "execution_count": 26,
   "metadata": {
    "id": "HInOwL2VCn-O"
   },
   "outputs": [],
   "source": [
    "# Dropping all rows where any NaN values are present\n",
    "df_final.dropna(inplace=True)"
   ]
  },
  {
   "cell_type": "code",
   "execution_count": 27,
   "metadata": {
    "id": "E1x7T5FCCo78"
   },
   "outputs": [],
   "source": [
    "from sklearn.impute import SimpleImputer\n",
    "\n",
    "# This will fill in NaNs with the mean value of each column\n",
    "imputer = SimpleImputer(missing_values=np.nan, strategy='mean')\n",
    "X_train = imputer.fit_transform(X)\n",
    "y_train = imputer.fit_transform(y)"
   ]
  },
  {
   "cell_type": "code",
   "execution_count": 28,
   "metadata": {
    "id": "y3C6fBaLC1fW"
   },
   "outputs": [],
   "source": [
    "# Split the data into training and test sets\n",
    "X_train_n, X_test_n, y_train_n, y_test_n = train_test_split(X_train, y_train, test_size=0.2, random_state=42)"
   ]
  },
  {
   "cell_type": "code",
   "execution_count": 29,
   "metadata": {
    "colab": {
     "base_uri": "https://localhost:8080/"
    },
    "id": "k49veqFODCxG",
    "outputId": "8acd2f2a-8e23-4470-d0c6-1db7330e2d64"
   },
   "outputs": [
    {
     "name": "stdout",
     "output_type": "stream",
     "text": [
      "New Linear R-squared train: 0.6287140460780442\n"
     ]
    }
   ],
   "source": [
    "# Assuming you have already prepared X_train, y_train, X_test\n",
    "linear_regression_model_n = LinearRegression()\n",
    "linear_regression_model_n.fit(X_train_n, y_train_n)  # Train the model using the training data\n",
    "r2_train_n = linear_regression_model_n.score(X_train_n, y_train_n)\n",
    "print(f\"New Linear R-squared train: {r2_train_n}\")"
   ]
  },
  {
   "cell_type": "markdown",
   "metadata": {
    "id": "3IWPbKwx-ewO"
   },
   "source": [
    "***Lasso Regression Model: Newly Trained***"
   ]
  },
  {
   "cell_type": "code",
   "execution_count": 30,
   "metadata": {
    "id": "-sEWTCed2Z5S"
   },
   "outputs": [],
   "source": [
    "# Standardize data\n",
    "scaler = StandardScaler()\n",
    "X_train_scaled_n = scaler.fit_transform(X_train_n)\n",
    "X_test_scaled_n = scaler.transform(X_test_n)"
   ]
  },
  {
   "cell_type": "code",
   "execution_count": 31,
   "metadata": {
    "colab": {
     "base_uri": "https://localhost:8080/"
    },
    "id": "GxHb0Zp13SJf",
    "outputId": "86bad309-0f24-4f04-e5aa-0bf8985e2c8b"
   },
   "outputs": [
    {
     "name": "stdout",
     "output_type": "stream",
     "text": [
      "Best new alpha: 27431.655633496626\n"
     ]
    }
   ],
   "source": [
    "# Decide the best lambda coefficient\n",
    "from sklearn.linear_model import MultiTaskLassoCV\n",
    "\n",
    "lasso_cv_n = MultiTaskLassoCV(alphas=None, cv=5, random_state=0)\n",
    "\n",
    "# Fit the model\n",
    "lasso_cv_n.fit(X_train_scaled_n, y_train_n)\n",
    "\n",
    "# Best alpha\n",
    "print(f\"Best new alpha: {lasso_cv_n.alpha_}\")"
   ]
  },
  {
   "cell_type": "code",
   "execution_count": 32,
   "metadata": {
    "colab": {
     "base_uri": "https://localhost:8080/"
    },
    "id": "KWiHuw1T3b-o",
    "outputId": "3fd22337-9509-46af-f307-ce20b8a68bf5"
   },
   "outputs": [
    {
     "name": "stdout",
     "output_type": "stream",
     "text": [
      "New Lasso coefficients: [[      0.          147412.24095931 -132902.47489629       0.\n",
      "    89321.83299277   71433.53364567   12169.86808634  -61240.13108652\n",
      "    62752.7012719        0.           31145.18911228  -68935.01461898\n",
      "        0.               0.               0.            3007.59229261\n",
      "     -745.07826865   17993.03550909       0.           94359.82568217\n",
      "       -0.         -100477.25660964       0.               0.\n",
      "       -0.               0.              -0.          128282.08591783\n",
      "       -0.               0.        ]\n",
      " [      0.          147412.24095931 -132902.47489629       0.\n",
      "    89321.83299277   71433.53364567   12169.86808634  -61240.13108652\n",
      "    62752.7012719        0.           31145.18911228  -68935.01461898\n",
      "        0.               0.               0.            3007.59229261\n",
      "     -745.07826865   17993.03550909       0.           94359.82568217\n",
      "       -0.         -100477.25660964       0.               0.\n",
      "       -0.               0.              -0.          128282.08591783\n",
      "       -0.               0.        ]]\n"
     ]
    }
   ],
   "source": [
    "# Initialize the Lasso regression model with a specific alpha value\n",
    "lasso_model_n = Lasso(alpha=27431.65)\n",
    "\n",
    "# Fit the model on the scaled training data\n",
    "lasso_model_n.fit(X_train_scaled_n, y_train_n)\n",
    "\n",
    "# Make predictions using the model on both the scaled training and test sets\n",
    "y_train_pred_n = lasso_model_n.predict(X_train_scaled_n)\n",
    "\n",
    "print(\"New Lasso coefficients:\", lasso_model_n.coef_)"
   ]
  },
  {
   "cell_type": "code",
   "execution_count": 33,
   "metadata": {
    "colab": {
     "base_uri": "https://localhost:8080/"
    },
    "id": "OKy56IoX68M4",
    "outputId": "4cf380a1-6a34-41d3-b4a3-c13fa4f2c3b7"
   },
   "outputs": [
    {
     "name": "stdout",
     "output_type": "stream",
     "text": [
      "New Lasso R-squared train: 0.6091070257162248\n"
     ]
    }
   ],
   "source": [
    "train_r2_n = r2_score(y_train_n, y_train_pred_n)\n",
    "print(f\"New Lasso R-squared train: {train_r2_n}\")"
   ]
  },
  {
   "cell_type": "markdown",
   "metadata": {
    "id": "Ush7c7ia7qSz"
   },
   "source": [
    "### **AIC, AICc, BIC Calculation**"
   ]
  },
  {
   "cell_type": "markdown",
   "metadata": {
    "id": "P9yoCi-m8BUn"
   },
   "source": [
    "***Linear Regression Model: AIC, AICc, BIC***"
   ]
  },
  {
   "cell_type": "code",
   "execution_count": 34,
   "metadata": {
    "colab": {
     "base_uri": "https://localhost:8080/"
    },
    "id": "S3t02qII8bX8",
    "outputId": "e5ad73fe-7561-4ca9-f638-f1ec40e9004f"
   },
   "outputs": [
    {
     "name": "stdout",
     "output_type": "stream",
     "text": [
      "AIC of Linear Regression Model: 6030.981149959282\n",
      "AICc of Linear Regression Model: 6042.190189507305\n",
      "BIC of Linear Regression Model: 6134.593511770192\n"
     ]
    }
   ],
   "source": [
    "# Estimate AIC, AICc, BIC for Linear Regression Model\n",
    "# Predict on the training data\n",
    "y_pred_train_n = linear_regression_model_n.predict(X_train_n)\n",
    "\n",
    "# Calculate the number of observations and parameters\n",
    "n = X_train_n.shape[0]\n",
    "k = X_train_n.shape[1] + 1  # Plus one for the intercept\n",
    "\n",
    "# Compute the RSS\n",
    "rss = mean_squared_error(y_train_n, y_pred_train_n) * n\n",
    "\n",
    "# Compute the log-likelihood\n",
    "log_likelihood = -n/2 * np.log(2 * np.pi * rss / n) - n/2\n",
    "\n",
    "# Compute AIC\n",
    "aic = 2 * k - 2 * log_likelihood\n",
    "\n",
    "# Compute AICc\n",
    "aicc = aic + (2 * k * (k + 1)) / (n - k - 1)\n",
    "\n",
    "# Compute BIC\n",
    "bic = np.log(n) * k - 2 * log_likelihood\n",
    "\n",
    "print(\"AIC of Linear Regression Model:\", aic)\n",
    "print(\"AICc of Linear Regression Model:\", aicc)\n",
    "print(\"BIC of Linear Regression Model:\", bic)"
   ]
  },
  {
   "cell_type": "markdown",
   "metadata": {
    "id": "bhTrzIAU-n1Y"
   },
   "source": [
    "***Lasso Regression Model: AIC, AICc, BIC***"
   ]
  },
  {
   "cell_type": "code",
   "execution_count": 35,
   "metadata": {
    "colab": {
     "base_uri": "https://localhost:8080/"
    },
    "id": "mtY0wSEX88S6",
    "outputId": "e503db20-c3b3-4db2-9ff6-e5924f232d02"
   },
   "outputs": [
    {
     "name": "stdout",
     "output_type": "stream",
     "text": [
      "AIC of Lasso Regression Model: 7558.129078598194\n",
      "AICc of Lasso Regression Model: 7566.755165554716\n",
      "BIC of Lasso Regression Model: 7668.747758214788\n"
     ]
    }
   ],
   "source": [
    "# Estimate AIC, AICc, BIC for Lasso Regression Model\n",
    "# Predict on the training data\n",
    "y_pred_train_nl = lasso_model_n.predict(X_train_scaled_n)\n",
    "\n",
    "# Calculate the number of observations and non-zero parameters (including intercept if it's not zero)\n",
    "n = X_train.shape[0]\n",
    "k = np.sum(lasso_model_n.coef_ != 0) + 1  # Add 1 if there's an intercept\n",
    "\n",
    "# Compute RSS\n",
    "rss = mean_squared_error(y_train_n, y_pred_train_nl) * n\n",
    "\n",
    "# Compute the estimated log-likelihood\n",
    "log_likelihood = -n/2 * np.log(2 * np.pi) - n/2 * np.log(rss / n) - rss/(2*rss/n)\n",
    "\n",
    "# Compute AIC\n",
    "aic = 2 * k - 2 * log_likelihood\n",
    "\n",
    "# Compute AICc for small sample sizes\n",
    "aicc = aic + (2 * k * (k + 1)) / (n - k - 1)\n",
    "\n",
    "# Compute BIC\n",
    "bic = np.log(n) * k - 2 * log_likelihood\n",
    "\n",
    "print(\"AIC of Lasso Regression Model:\", aic)\n",
    "print(\"AICc of Lasso Regression Model:\", aicc)\n",
    "print(\"BIC of Lasso Regression Model:\", bic)"
   ]
  },
  {
   "cell_type": "markdown",
   "metadata": {
    "id": "YBNPxzUxEmNm"
   },
   "source": [
    "### **Cross Validation**"
   ]
  },
  {
   "cell_type": "markdown",
   "metadata": {
    "id": "KvbV8eSlE5_y"
   },
   "source": [
    "***Linear Regression Model: CV***"
   ]
  },
  {
   "cell_type": "code",
   "execution_count": 36,
   "metadata": {
    "colab": {
     "base_uri": "https://localhost:8080/"
    },
    "id": "dO74KGkuFljd",
    "outputId": "969eb910-cda0-4f4e-bbe2-12e5d6617d95"
   },
   "outputs": [
    {
     "name": "stdout",
     "output_type": "stream",
     "text": [
      "R^2: [0.09329789840402991, 0.6451395152612843, 0.37159652683006694, 0.566326453376542, 0.5836176874732998]\n",
      "MSE: [192482722788.46594, 162566218766.47562, 268151094385.3626, 172308648834.24573, 180145093350.97098]\n"
     ]
    }
   ],
   "source": [
    "# Initialize list to store MSE and R^2 for each fold\n",
    "mse_values_lin = []\n",
    "r2_values_lin = []\n",
    "\n",
    "K = 5\n",
    "fold_size = len(X_train_n) // K\n",
    "\n",
    "# Perform K-Fold Cross-Validation\n",
    "for k in range(K):\n",
    "    # Create indices for the test set\n",
    "    test_indices = np.zeros(X_train_n.shape[0], dtype=bool)\n",
    "    test_indices[k * fold_size: min((k + 1) * fold_size, len(X_train_n))] = True\n",
    "\n",
    "    # Training data where test indices are false\n",
    "    X_train = X_train_n[~test_indices]\n",
    "    y_train = y_train_n[~test_indices]\n",
    "\n",
    "    # Testing data where test indices are true\n",
    "    X_test = X_train_n[test_indices]\n",
    "    y_test = y_train_n[test_indices]\n",
    "\n",
    "    # Initialize and train the model\n",
    "    model = LinearRegression()\n",
    "    model.fit(X_train, y_train)\n",
    "\n",
    "    # Make predictions and evaluate the model\n",
    "    predictions = model.predict(X_test)\n",
    "    mse = mean_squared_error(y_test, predictions)\n",
    "    r2 = r2_score(y_test, predictions)\n",
    "\n",
    "    r2_values_lin.append(r2)\n",
    "    mse_values_lin.append(mse)\n",
    "\n",
    "# Print MSE and R^2 values for each fold\n",
    "print(\"R^2:\", r2_values_lin)\n",
    "print(\"MSE:\", mse_values_lin)"
   ]
  },
  {
   "cell_type": "code",
   "execution_count": 37,
   "metadata": {
    "colab": {
     "base_uri": "https://localhost:8080/"
    },
    "id": "MDgUvYoyI1xX",
    "outputId": "25095081-9706-418c-97b0-e2c78cdf5a42"
   },
   "outputs": [
    {
     "name": "stdout",
     "output_type": "stream",
     "text": [
      "Average R^2 of the linear regression model: 0.45199561626904455\n",
      "Average MSE of the linear regression model: 195130755625.1042\n"
     ]
    }
   ],
   "source": [
    "# Calculate the average r2 and mse across all folds\n",
    "avg_R2_lin_cv = np.mean(r2_values_lin)\n",
    "avg_MSE_lin_cv = np.mean(mse_values_lin)\n",
    "print(\"Average R^2 of the linear regression model:\", avg_R2_lin_cv)\n",
    "print(\"Average MSE of the linear regression model:\", avg_MSE_lin_cv)"
   ]
  },
  {
   "cell_type": "markdown",
   "metadata": {
    "id": "OGVxsQLbJm7B"
   },
   "source": [
    "***Lasso Regression Model: CV***"
   ]
  },
  {
   "cell_type": "code",
   "execution_count": 38,
   "metadata": {
    "colab": {
     "base_uri": "https://localhost:8080/"
    },
    "id": "qUTuq7geJYFG",
    "outputId": "9faa8c7d-54ad-48b0-f7fc-8478a3c2d1cf"
   },
   "outputs": [
    {
     "name": "stderr",
     "output_type": "stream",
     "text": [
      "/usr/local/lib/python3.10/dist-packages/sklearn/linear_model/_coordinate_descent.py:631: ConvergenceWarning: Objective did not converge. You might want to increase the number of iterations, check the scale of the features or consider increasing regularisation. Duality gap: 1.197e+13, tolerance: 7.472e+09\n",
      "  model = cd_fast.enet_coordinate_descent(\n",
      "/usr/local/lib/python3.10/dist-packages/sklearn/linear_model/_coordinate_descent.py:631: ConvergenceWarning: Objective did not converge. You might want to increase the number of iterations, check the scale of the features or consider increasing regularisation. Duality gap: 1.033e+13, tolerance: 6.464e+09\n",
      "  model = cd_fast.enet_coordinate_descent(\n",
      "/usr/local/lib/python3.10/dist-packages/sklearn/linear_model/_coordinate_descent.py:631: ConvergenceWarning: Objective did not converge. You might want to increase the number of iterations, check the scale of the features or consider increasing regularisation. Duality gap: 6.263e+12, tolerance: 6.573e+09\n",
      "  model = cd_fast.enet_coordinate_descent(\n",
      "/usr/local/lib/python3.10/dist-packages/sklearn/linear_model/_coordinate_descent.py:631: ConvergenceWarning: Objective did not converge. You might want to increase the number of iterations, check the scale of the features or consider increasing regularisation. Duality gap: 1.076e+13, tolerance: 6.710e+09\n",
      "  model = cd_fast.enet_coordinate_descent(\n",
      "/usr/local/lib/python3.10/dist-packages/sklearn/linear_model/_coordinate_descent.py:631: ConvergenceWarning: Objective did not converge. You might want to increase the number of iterations, check the scale of the features or consider increasing regularisation. Duality gap: 1.087e+13, tolerance: 6.568e+09\n",
      "  model = cd_fast.enet_coordinate_descent(\n"
     ]
    },
    {
     "name": "stdout",
     "output_type": "stream",
     "text": [
      "R^2: [0.09335360192689146, 0.645158291058731, 0.3715982450054801, 0.5663339632484629, 0.5836152960905326]\n",
      "MSE: [192470897553.10977, 162557617328.65283, 268150361208.92892, 172305664986.38672, 180146127967.13712]\n"
     ]
    }
   ],
   "source": [
    "# Initialize list to store MSE and R^2 for each fold\n",
    "mse_values_las = []\n",
    "r2_values_las = []\n",
    "\n",
    "K = 5\n",
    "fold_size = len(X_train_n) // K\n",
    "\n",
    "# Perform K-Fold Cross-Validation\n",
    "for k in range(K):\n",
    "    # Create indices for the test set\n",
    "    test_indices = np.zeros(X_train_n.shape[0], dtype=bool)\n",
    "    test_indices[k * fold_size: min((k + 1) * fold_size, len(X_train_n))] = True\n",
    "\n",
    "    # Training data where test indices are false\n",
    "    X_train = X_train_n[~test_indices]\n",
    "    y_train = y_train_n[~test_indices]\n",
    "\n",
    "    # Testing data where test indices are true\n",
    "    X_test = X_train_n[test_indices]\n",
    "    y_test = y_train_n[test_indices]\n",
    "\n",
    "    # Initialize and train the Lasso model\n",
    "    # You can adjust the alpha value as needed\n",
    "    model = Lasso(alpha=1.0)\n",
    "    model.fit(X_train, y_train)\n",
    "\n",
    "    # Make predictions and evaluate the model\n",
    "    predictions = model.predict(X_test)\n",
    "    mse_las = mean_squared_error(y_test, predictions)\n",
    "    r2_las = r2_score(y_test, predictions)\n",
    "\n",
    "    mse_values_las.append(mse_las)\n",
    "    r2_values_las.append(r2_las)\n",
    "\n",
    "# Print MSE and R^2 values for each fold\n",
    "print(\"R^2:\", r2_values_las)\n",
    "print(\"MSE:\", mse_values_las)"
   ]
  },
  {
   "cell_type": "code",
   "execution_count": 39,
   "metadata": {
    "colab": {
     "base_uri": "https://localhost:8080/"
    },
    "id": "qp29AXWiJ0AO",
    "outputId": "4e2c7fb7-83d7-401a-bea0-9795e1ec61b1"
   },
   "outputs": [
    {
     "name": "stdout",
     "output_type": "stream",
     "text": [
      "Average R^2 of the linear regression model: 0.4520118794660196\n",
      "Average MSE of the linear regression model: 195126133808.84308\n"
     ]
    }
   ],
   "source": [
    "# Calculate the average r2 and mse across all folds\n",
    "avg_R2_las_cv = np.mean(r2_values_las)\n",
    "avg_MSE_las_cv = np.mean(mse_values_las)\n",
    "print(\"Average R^2 of the lasso regression model:\", avg_R2_las_cv)\n",
    "print(\"Average MSE of the lasso regression model:\", avg_MSE_las_cv)"
   ]
  },
  {
   "cell_type": "markdown",
   "metadata": {
    "id": "pRtQBN3sLe1O"
   },
   "source": [
    "### **Deviance**"
   ]
  },
  {
   "cell_type": "markdown",
   "metadata": {
    "id": "L2sNnWIKPYL6"
   },
   "source": [
    "***Linear Deviance***"
   ]
  },
  {
   "cell_type": "code",
   "execution_count": 40,
   "metadata": {
    "colab": {
     "base_uri": "https://localhost:8080/"
    },
    "id": "t8i8mFjWLnDh",
    "outputId": "63fdcbb1-146a-4b38-bd49-a8b0021c8eb7"
   },
   "outputs": [
    {
     "name": "stdout",
     "output_type": "stream",
     "text": [
      "Deviance of Linear Regression model: {74508131030.23108}\n"
     ]
    }
   ],
   "source": [
    "# Computing their deviance on the test data for linear regression\n",
    "y_pred_lin_n = linear_regression_model_n.predict(X_test_n)\n",
    "Linear_Deviance = mean_squared_error(y_test_n, y_pred_lin_n)\n",
    "print(f\"Deviance of Linear Regression model on test data:\",{Linear_Deviance})"
   ]
  },
  {
   "cell_type": "markdown",
   "metadata": {
    "id": "2i3S-0DVPsbx"
   },
   "source": [
    "***Lasso Deviance***"
   ]
  },
  {
   "cell_type": "code",
   "execution_count": 41,
   "metadata": {
    "colab": {
     "base_uri": "https://localhost:8080/"
    },
    "id": "PAZX2brkObRo",
    "outputId": "1c93953a-46dd-4cc9-ef43-3937864d88ee"
   },
   "outputs": [
    {
     "name": "stdout",
     "output_type": "stream",
     "text": [
      "Deviance of Lasso Regression model: {70938386587.77307}\n"
     ]
    }
   ],
   "source": [
    "# Computing their deviance on the test data for lasso regression\n",
    "y_pred_las_n = lasso_model_n.predict(X_test_scaled_n)\n",
    "Lasso_Deviance = mean_squared_error(y_test_n, y_pred_las_n)\n",
    "print(f\"Deviance of Lasso Regression model on test data:\",{Lasso_Deviance})"
   ]
  },
  {
   "cell_type": "markdown",
   "metadata": {
    "id": "USnUb3aqQYvW"
   },
   "source": [
    "**Insights:**\n",
    "\n",
    "> R^2: The newly trained models for Linear regression and Lasso have an R^2 of 0.62 and 0.60 respectively. This indicates that both models are able to explain some portion of the variance in the outcome variable.\n",
    "\n",
    "\n",
    "> Alpha: The alpha obtained seems to be extremely high suggesting shrinkage in coefficients of the independent variable\n",
    "\n",
    "\n",
    "> AIC, AICc, BIC: Linear Regression model have lower values of AIC, AICc and BIC, compared to the linear regression mode, with lower values indicating a better-fitting model when comparing models with the same data. Lasso Regression have higher values of AIC, AICc, BIC suggesting it has a worse fit to the training data. This could be due to the high level of regularization imposed by the large alpha value.\n",
    "\n",
    "\n",
    "\n",
    "> Cross-Validation: The average R-squared from the cross-validation of the Linear Regression model to the Lasso Regression model is 0.4519 to 0.4520, which is lower than the R-squared on the training data. There's not much of improvement in R^2 which indicates a sign of overfitting. This shows that the model is not generalizing as well when evaluated on different subsets of the data, which can be a sign of overfitting to the training data\n",
    "\n",
    "\n",
    "\n",
    "> Deviance: It is the mean square error and the values are extremely large indicating that there has been a huge amount of regulariazation. The fact that the Lasso Regression model has a lower MSE on the test data suggests it is generalizing better than the Linear Regression model, despite its higher information criteria.\n",
    "\n",
    "\n",
    "\n",
    "> Overall Performance: In summary, the Linear Regression model appears to fit the training data better (indicated by the lower AIC, AICc, and BIC, and higher R-squared), and the Lasso Regression model, with a significant amount of regularization, generalizes better to the test data, resulting in a lower mean squared error.\n",
    "\n",
    "\n",
    "\n",
    "\n",
    "\n",
    "\n"
   ]
  }
 ],
 "metadata": {
  "colab": {
   "provenance": []
  },
  "kernelspec": {
   "display_name": "Python 3 (ipykernel)",
   "language": "python",
   "name": "python3"
  },
  "language_info": {
   "codemirror_mode": {
    "name": "ipython",
    "version": 3
   },
   "file_extension": ".py",
   "mimetype": "text/x-python",
   "name": "python",
   "nbconvert_exporter": "python",
   "pygments_lexer": "ipython3",
   "version": "3.11.5"
  }
 },
 "nbformat": 4,
 "nbformat_minor": 1
}
